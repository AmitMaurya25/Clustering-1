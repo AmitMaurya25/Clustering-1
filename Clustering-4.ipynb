{
 "cells": [
  {
   "cell_type": "markdown",
   "id": "178a5f14-fcaa-47ab-a800-0f820c126af1",
   "metadata": {},
   "source": [
    "# ## Question 1------------------------------------------------------------------------------------------------------------------\n"
   ]
  },
  {
   "cell_type": "code",
   "execution_count": null,
   "id": "c4d7701e-cf98-4cae-8f0b-9950c745d2a4",
   "metadata": {
    "tags": []
   },
   "outputs": [],
   "source": [
    "Homogeneity and completeness are two metrics commonly used for evaluating the performance of clustering algorithms. \n",
    "These metrics assess the quality of clusters based on the agreement between the true class labels (ground truth) and the cluster assignments\n",
    "produced by the algorithm.\n",
    "Homogeneity:\n",
    "\n",
    "    Definition: Homogeneity measures the extent to which each cluster contains only data points that are members of a single class. \n",
    "    In other words, it assesses whether each cluster is composed of samples from a single class.\n",
    "    Calculation: Homogeneity score ranges from 0 to 1, where higher values indicate better homogeneity.\n",
    "\n",
    "Completeness:\n",
    "\n",
    "    Definition: Completeness measures the extent to which all data points that are members of a given class are assigned to the same cluster.\n",
    "    It assesses whether all members of a class are placed in a single cluster.\n",
    "    Calculation: Completeness score also ranges from 0 to 1, with higher values indicating better completeness.\n",
    "\n",
    "Adjusted Rand Index (ARI):\n",
    "\n",
    "The Adjusted Rand Index is another metric that combines both homogeneity and completeness into a single score. It considers pairs of samples \n",
    "and assesses whether they are in the same cluster and have the same true class label.\n",
    "\n",
    "Now, let's see how to calculate homogeneity and completeness using scikit-learn:"
   ]
  },
  {
   "cell_type": "code",
   "execution_count": 29,
   "id": "031e3bf2-ad71-4b45-9879-057bedaff81d",
   "metadata": {},
   "outputs": [
    {
     "name": "stdout",
     "output_type": "stream",
     "text": [
      "Homogeneity: 1.0000\n",
      "Completeness: 1.0000\n",
      "Adjusted Rand Index: 1.0000\n"
     ]
    },
    {
     "name": "stderr",
     "output_type": "stream",
     "text": [
      "/opt/conda/lib/python3.10/site-packages/sklearn/cluster/_kmeans.py:870: FutureWarning: The default value of `n_init` will change from 10 to 'auto' in 1.4. Set the value of `n_init` explicitly to suppress the warning\n",
      "  warnings.warn(\n"
     ]
    }
   ],
   "source": [
    "from sklearn import metrics\n",
    "from sklearn.cluster import KMeans\n",
    "from sklearn.datasets import make_blobs\n",
    "\n",
    "# Generate synthetic data with ground truth labels\n",
    "X, true_labels = make_blobs(n_samples=300, centers=3, random_state=42)\n",
    "\n",
    "# Apply K-means clustering\n",
    "kmeans = KMeans(n_clusters=3, random_state=42)\n",
    "predicted_labels = kmeans.fit_predict(X)\n",
    "\n",
    "# Calculate homogeneity and completeness\n",
    "homogeneity = metrics.homogeneity_score(true_labels, predicted_labels)\n",
    "completeness = metrics.completeness_score(true_labels, predicted_labels)\n",
    "adjusted_rand_index = metrics.adjusted_rand_score(true_labels, predicted_labels)\n",
    "\n",
    "print(f'Homogeneity: {homogeneity:.4f}')\n",
    "print(f'Completeness: {completeness:.4f}')\n",
    "print(f'Adjusted Rand Index: {adjusted_rand_index:.4f}')\n"
   ]
  },
  {
   "cell_type": "markdown",
   "id": "f16f4011-2dd6-42a4-a05e-4a1bac19425e",
   "metadata": {},
   "source": [
    "## Qestion 2 --------------------------------------------------------------------------------------------------------------"
   ]
  },
  {
   "cell_type": "code",
   "execution_count": null,
   "id": "0db6999d-bea5-49fb-bd82-931a82c42292",
   "metadata": {},
   "outputs": [],
   "source": [
    "The V-measure is a metric used for clustering evaluation that combines both homogeneity and completeness into a single score.\n",
    "It provides a harmonic mean of these two measures, offering a balanced assessment of clustering performance.\n",
    "V-measure:\n",
    "\n",
    "    Definition: The V-measure is the harmonic mean of homogeneity and completeness. It ranges from 0 to 1, where higher values indicate better \n",
    "    clustering performance.\n",
    "\n",
    "    Calculation: The V-measure is calculated as follows:\n",
    "\n",
    "    V=2⋅homogeneity⋅completenesshomogeneity+completenessV=homogeneity+completeness2⋅homogeneity⋅completeness​\n",
    "\n",
    "    The V-measure is symmetric, meaning that it does not favor either homogeneity or completeness.\n",
    "\n",
    "Relationship with Homogeneity and Completeness:\n",
    "\n",
    "    A V-measure of 1 indicates perfect agreement between the true class labels and the clustering assignments (perfect homogeneity and completeness).\n",
    "    A V-measure of 0 indicates that either homogeneity or completeness (or both) is zero, representing poor clustering performance.\n",
    "\n",
    "Now, let's see how to calculate the V-measure using scikit-learn:"
   ]
  },
  {
   "cell_type": "code",
   "execution_count": 30,
   "id": "ebaea2ec-c79c-4fcb-9697-fd53254f4068",
   "metadata": {},
   "outputs": [
    {
     "name": "stdout",
     "output_type": "stream",
     "text": [
      "V-measure: 1.0000\n"
     ]
    },
    {
     "name": "stderr",
     "output_type": "stream",
     "text": [
      "/opt/conda/lib/python3.10/site-packages/sklearn/cluster/_kmeans.py:870: FutureWarning: The default value of `n_init` will change from 10 to 'auto' in 1.4. Set the value of `n_init` explicitly to suppress the warning\n",
      "  warnings.warn(\n"
     ]
    }
   ],
   "source": [
    "from sklearn import metrics\n",
    "from sklearn.cluster import KMeans\n",
    "from sklearn.datasets import make_blobs\n",
    "\n",
    "# Generate synthetic data with ground truth labels\n",
    "X, true_labels = make_blobs(n_samples=300, centers=3, random_state=42)\n",
    "\n",
    "# Apply K-means clustering\n",
    "kmeans = KMeans(n_clusters=3, random_state=42)\n",
    "predicted_labels = kmeans.fit_predict(X)\n",
    "\n",
    "# Calculate V-measure\n",
    "v_measure = metrics.v_measure_score(true_labels, predicted_labels)\n",
    "\n",
    "print(f'V-measure: {v_measure:.4f}')\n"
   ]
  },
  {
   "cell_type": "markdown",
   "id": "915b2b7b-0c80-4bff-af42-0ccf34fa753d",
   "metadata": {},
   "source": [
    "## Qestion 3 --------------------------------------------------------------------------------------------------------------"
   ]
  },
  {
   "cell_type": "code",
   "execution_count": null,
   "id": "be3b99c4-dc68-46a5-bfa3-b030c78b7430",
   "metadata": {},
   "outputs": [],
   "source": [
    "The Silhouette Coefficient is a metric used to evaluate the quality of a clustering result by measuring how well-separated the clusters are. \n",
    "It provides an indication of how similar an object is to its own cluster (cohesion) compared to other clusters (separation). \n",
    "The Silhouette Coefficient ranges from -1 to 1, where higher values indicate better-defined and well-separated clusters.\n",
    "Silhouette Coefficient Calculation:\n",
    "\n",
    "For each sample ii, the Silhouette Coefficient is calculated as follows:\n",
    "\n",
    "s(i)=b(i)−a(i)max⁡{a(i),b(i)}s(i)=max{a(i),b(i)}b(i)−a(i)​\n",
    "\n",
    "where:\n",
    "\n",
    "    a(i)a(i) is the average distance from the ii-th sample to the other samples in the same cluster.\n",
    "    b(i)b(i) is the smallest average distance from the ii-th sample to samples in a different cluster, minimized over clusters.\n",
    "\n",
    "Interpretation:\n",
    "\n",
    "    A Silhouette Coefficient close to +1 indicates that the sample is far away from the neighboring clusters, suggesting a well-defined cluster.\n",
    "    A Silhouette Coefficient close to 0 indicates overlapping clusters.\n",
    "    A Silhouette Coefficient close to -1 indicates that the sample may have been assigned to the wrong cluster.\n",
    "\n",
    "Range of Silhouette Coefficient:\n",
    "\n",
    "    The Silhouette Coefficient ranges from -1 to 1.\n",
    "    A high positive value indicates a well-defined cluster.\n",
    "    A value around 0 indicates overlapping clusters.\n",
    "    A negative value suggests that the sample might have been assigned to the wrong cluster.\n",
    "\n",
    "Using Silhouette Coefficient in scikit-learn:"
   ]
  },
  {
   "cell_type": "code",
   "execution_count": 31,
   "id": "dca079e1-f5b1-4cab-aeac-a74fd150fcb1",
   "metadata": {},
   "outputs": [
    {
     "name": "stdout",
     "output_type": "stream",
     "text": [
      "Silhouette Coefficient: 0.8480\n"
     ]
    },
    {
     "name": "stderr",
     "output_type": "stream",
     "text": [
      "/opt/conda/lib/python3.10/site-packages/sklearn/cluster/_kmeans.py:870: FutureWarning: The default value of `n_init` will change from 10 to 'auto' in 1.4. Set the value of `n_init` explicitly to suppress the warning\n",
      "  warnings.warn(\n"
     ]
    }
   ],
   "source": [
    "from sklearn import metrics\n",
    "from sklearn.cluster import KMeans\n",
    "from sklearn.datasets import make_blobs\n",
    "\n",
    "# Generate synthetic data with ground truth labels\n",
    "X, true_labels = make_blobs(n_samples=300, centers=3, random_state=42)\n",
    "\n",
    "# Apply K-means clustering\n",
    "kmeans = KMeans(n_clusters=3, random_state=42)\n",
    "predicted_labels = kmeans.fit_predict(X)\n",
    "\n",
    "# Calculate Silhouette Coefficient\n",
    "silhouette_coefficient = metrics.silhouette_score(X, predicted_labels)\n",
    "\n",
    "print(f'Silhouette Coefficient: {silhouette_coefficient:.4f}')\n"
   ]
  },
  {
   "cell_type": "markdown",
   "id": "6c26df2e-9a3a-4623-a65a-ab1cc285816f",
   "metadata": {},
   "source": [
    "## Qestion 4 --------------------------------------------------------------------------------------------------------------"
   ]
  },
  {
   "cell_type": "code",
   "execution_count": null,
   "id": "10a6a2d8-6c7f-465f-8267-855152d00d7c",
   "metadata": {},
   "outputs": [],
   "source": [
    "The Davies-Bouldin Index (DBI) is a metric used to evaluate the quality of a clustering result. It measures the compactness and separation of clusters, \n",
    "providing a single numerical value that summarizes the clustering performance. The lower the Davies-Bouldin Index, the better the clustering result.\n",
    "The range of values for the Davies-Bouldin Index is from 0 to positive infinity.\n",
    "Davies-Bouldin Index Calculation:\n",
    "\n",
    "The Davies-Bouldin Index for kk clusters is calculated as the average over all clusters of the ratio of the worst intra-cluster distance to the smallest \n",
    "inter-cluster distance. Specifically:\n",
    "\n",
    "DBI=1k∑i=1kmax⁡j≠i(intra-cluster distancei+intra-cluster distancejinter-cluster distancei,j)\n",
    "DBI=k1​∑i=1k​maxj=i​(inter-cluster distancei,j​intra-cluster distancei​+intra-cluster distancej​​)\n",
    "\n",
    "Where:\n",
    "\n",
    "    intra-cluster distanceiintra-cluster distancei​ is the average distance between each point in cluster ii and the centroid of cluster ii.\n",
    "    inter-cluster distancei,jinter-cluster distancei,j​ is the distance between the centroids of clusters ii and jj.\n",
    "\n",
    "Interpretation:\n",
    "\n",
    "    Lower values of the Davies-Bouldin Index indicate better clustering results.\n",
    "    The Davies-Bouldin Index measures the compactness of clusters and the separation between clusters.\n",
    "\n",
    "Using Davies-Bouldin Index in scikit-learn:"
   ]
  },
  {
   "cell_type": "code",
   "execution_count": null,
   "id": "5b126abe-75b5-437b-845b-1ce1d5b9b443",
   "metadata": {},
   "outputs": [],
   "source": [
    "from sklearn import metrics\n",
    "from sklearn.cluster import KMeans\n",
    "from sklearn.datasets import make_blobs\n",
    "\n",
    "# Generate synthetic data with ground truth labels\n",
    "X, true_labels = make_blobs(n_samples=300, centers=3, random_state=42)\n",
    "\n",
    "# Apply K-means clustering\n",
    "kmeans = KMeans(n_clusters=3, random_state=42)\n",
    "predicted_labels = kmeans.fit_predict(X)\n",
    "\n",
    "# Calculate Davies-Bouldin Index\n",
    "davies_bouldin_index = metrics.davies_bouldin_score(X, predicted_labels)\n",
    "\n",
    "print(f'Davies-Bouldin Index: {davies_bouldin_index:.4f}')\n"
   ]
  },
  {
   "cell_type": "code",
   "execution_count": null,
   "id": "8855414a-fc38-4752-a881-fecee3c42499",
   "metadata": {},
   "outputs": [],
   "source": []
  },
  {
   "cell_type": "markdown",
   "id": "1fbae123-e8b6-4a9e-8691-16b297790f55",
   "metadata": {},
   "source": [
    "## Qestion 5 --------------------------------------------------------------------------------------------------------------"
   ]
  },
  {
   "cell_type": "code",
   "execution_count": 33,
   "id": "23803f32-dcb5-4597-bdc9-8b38f28d0325",
   "metadata": {},
   "outputs": [
    {
     "ename": "SyntaxError",
     "evalue": "unterminated string literal (detected at line 41) (3637594134.py, line 41)",
     "output_type": "error",
     "traceback": [
      "\u001b[0;36m  Cell \u001b[0;32mIn[33], line 41\u001b[0;36m\u001b[0m\n\u001b[0;31m    Let's illustrate the differences using a simple example with synthetic data:\u001b[0m\n\u001b[0m       ^\u001b[0m\n\u001b[0;31mSyntaxError\u001b[0m\u001b[0;31m:\u001b[0m unterminated string literal (detected at line 41)\n"
     ]
    }
   ],
   "source": [
    "Yes, it is possible for a clustering result to have high homogeneity but low completeness. Let's understand this concept with an example:\n",
    "\n",
    "Example:\n",
    "\n",
    "Consider a scenario where you have a dataset with two ground truth classes, but the clustering algorithm mistakenly merges some samples \n",
    "from different classes into the same cluster. In this case, homogeneity can be high because each cluster contains samples from a single true class.\n",
    "However, completeness can be low because not all samples from the same true class are assigned to a single cluster.\n",
    "\n",
    "Let's generate a synthetic dataset and demonstrate this scenario using K-means clustering:"
   ]
  },
  {
   "cell_type": "code",
   "execution_count": 34,
   "id": "bd66d044-7bd5-4715-9bd5-0488760218bd",
   "metadata": {},
   "outputs": [
    {
     "name": "stdout",
     "output_type": "stream",
     "text": [
      "Homogeneity: 0.7039\n",
      "Completeness: 0.7131\n"
     ]
    },
    {
     "name": "stderr",
     "output_type": "stream",
     "text": [
      "/opt/conda/lib/python3.10/site-packages/sklearn/cluster/_kmeans.py:870: FutureWarning: The default value of `n_init` will change from 10 to 'auto' in 1.4. Set the value of `n_init` explicitly to suppress the warning\n",
      "  warnings.warn(\n"
     ]
    }
   ],
   "source": [
    "from sklearn import metrics\n",
    "from sklearn.cluster import KMeans\n",
    "from sklearn.datasets import make_blobs\n",
    "\n",
    "# Generate synthetic data with two ground truth classes\n",
    "X, true_labels = make_blobs(n_samples=300, centers=2, random_state=42)\n",
    "\n",
    "# Introduce an artificial merging of clusters\n",
    "X[50:100, 0] += 10  # Shift some samples from class 0 to the right\n",
    "\n",
    "# Apply K-means clustering\n",
    "kmeans = KMeans(n_clusters=2, random_state=42)\n",
    "predicted_labels = kmeans.fit_predict(X)\n",
    "\n",
    "# Calculate homogeneity and completeness\n",
    "homogeneity = metrics.homogeneity_score(true_labels, predicted_labels)\n",
    "completeness = metrics.completeness_score(true_labels, predicted_labels)\n",
    "\n",
    "print(f'Homogeneity: {homogeneity:.4f}')\n",
    "print(f'Completeness: {completeness:.4f}')\n"
   ]
  },
  {
   "cell_type": "code",
   "execution_count": null,
   "id": "e79f1084-734f-4c2e-b59d-cfe7be5d23ed",
   "metadata": {},
   "outputs": [],
   "source": [
    "In this example, we generate a dataset with two ground truth classes. We then artificially shift some samples from one class to the other to simulate \n",
    "a scenario where K-means may mistakenly merge clusters. When applying K-means clustering, homogeneity may be high because each cluster predominantly\n",
    "contains samples from a single true class. However, completeness may be low because not all samples from the same true class are assigned to a single \n",
    "cluster."
   ]
  },
  {
   "cell_type": "markdown",
   "id": "68ddcde6-8491-4209-b16b-37c212415cb5",
   "metadata": {},
   "source": [
    "## Qestion 6 --------------------------------------------------------------------------------------------------------------"
   ]
  },
  {
   "cell_type": "code",
   "execution_count": null,
   "id": "b4ddcb44-770f-4b20-a2b0-c589babfffd5",
   "metadata": {},
   "outputs": [],
   "source": [
    "The V-measure is a metric that combines both homogeneity and completeness into a single score. While it is not commonly used for directly\n",
    "determining the optimal number of clusters (K) in a clustering algorithm, you can use it to compare the quality of clustering results for different\n",
    "values of K. Essentially, you can perform clustering with various K values and choose the K that maximizes the V-measure.\n",
    "\n",
    "Here's a general approach using the V-measure to assess the quality of clustering for different values of K:"
   ]
  },
  {
   "cell_type": "code",
   "execution_count": 36,
   "id": "72697333-fc59-4434-b5ac-4f58d52e01b7",
   "metadata": {},
   "outputs": [
    {
     "name": "stdout",
     "output_type": "stream",
     "text": [
      "K=2, V-measure: 0.7337\n",
      "K=3, V-measure: 1.0000\n",
      "K=4, V-measure: 0.9091\n",
      "K=5, V-measure: 0.8279\n",
      "K=6, V-measure: 0.7607\n"
     ]
    }
   ],
   "source": [
    "from sklearn import metrics\n",
    "from sklearn.cluster import KMeans\n",
    "from sklearn.datasets import make_blobs\n",
    "import warnings\n",
    "warnings.filterwarnings('ignore')\n",
    "\n",
    "# Generate synthetic data with ground truth labels\n",
    "X, true_labels = make_blobs(n_samples=300, centers=3, random_state=42)\n",
    "\n",
    "# Define a range of K values to evaluate\n",
    "k_values = [2, 3, 4, 5, 6]\n",
    "\n",
    "# Evaluate clustering results for each K value\n",
    "for k in k_values:\n",
    "    # Apply K-means clustering\n",
    "    kmeans = KMeans(n_clusters=k, random_state=42)\n",
    "    predicted_labels = kmeans.fit_predict(X)\n",
    "\n",
    "    # Calculate V-measure\n",
    "    v_measure = metrics.v_measure_score(true_labels, predicted_labels)\n",
    "\n",
    "    print(f'K={k}, V-measure: {v_measure:.4f}')\n"
   ]
  },
  {
   "cell_type": "code",
   "execution_count": null,
   "id": "7c8f0d32-cdac-4d25-b80a-7a22b1441ee3",
   "metadata": {},
   "outputs": [],
   "source": [
    "In this example, we generate synthetic data with three ground truth clusters and then apply K-means clustering for different values of\n",
    "K (2, 3, 4, 5, 6). The V-measure is calculated for each clustering result, and the scores are printed. The K value that yields the highest\n",
    "V-measure may be considered as an indication of the optimal number of clusters."
   ]
  },
  {
   "cell_type": "markdown",
   "id": "bb3b6c98-0564-42b4-a965-6a54a7ab3046",
   "metadata": {},
   "source": [
    "## Qestion 7 --------------------------------------------------------------------------------------------------------------"
   ]
  },
  {
   "cell_type": "code",
   "execution_count": null,
   "id": "e7ef70f7-e92f-43eb-80d9-b697431a7a01",
   "metadata": {},
   "outputs": [],
   "source": [
    "Advantages of Silhouette Coefficient:\n",
    "\n",
    "    Simple Interpretation:\n",
    "        The Silhouette Coefficient is straightforward to interpret, as it provides a single numerical value that summarizes the compactness and separation of clusters.\n",
    "\n",
    "    Applicability to Any Number of Clusters:\n",
    "        The Silhouette Coefficient can be calculated for any number of clusters, making it suitable for evaluating clustering results with varying numbers of clusters.\n",
    "\n",
    "    Robustness to Different Shapes of Clusters:\n",
    "        It is relatively robust to different shapes of clusters and does not assume a particular cluster shape.\n",
    "\n",
    "Disadvantages of Silhouette Coefficient:\n",
    "\n",
    "    Sensitivity to Outliers:\n",
    "        The Silhouette Coefficient is sensitive to the presence of outliers, and the impact of outliers can influence the overall score.\n",
    "\n",
    "    Assumption of Euclidean Distance:\n",
    "        The calculation of the Silhouette Coefficient is based on the assumption of using Euclidean distances, which may not be appropriate for datasets with non-Euclidean structures.\n",
    "\n",
    "    Does Not Handle Unequal Cluster Sizes:\n",
    "        The Silhouette Coefficient may not perform well when clusters have significantly different sizes, as it tends to favor clusters with more samples.\n",
    "\n",
    "    Does Not Consider Cluster Shape:\n",
    "        It does not explicitly consider the shape or density of clusters, which can be a limitation when dealing with clusters of varying shapes and densities.\n",
    "\n",
    "    Global Measure:\n",
    "        The Silhouette Coefficient provides a global measure for the entire dataset, and the interpretation might not capture local structures or variations."
   ]
  },
  {
   "cell_type": "code",
   "execution_count": 37,
   "id": "262d0691-281a-451b-bfe7-8b6a117c67fc",
   "metadata": {},
   "outputs": [
    {
     "name": "stdout",
     "output_type": "stream",
     "text": [
      "Silhouette Coefficient: 0.8480\n"
     ]
    }
   ],
   "source": [
    "from sklearn import metrics\n",
    "from sklearn.cluster import KMeans\n",
    "from sklearn.datasets import make_blobs\n",
    "\n",
    "# Generate synthetic data with ground truth labels\n",
    "X, true_labels = make_blobs(n_samples=300, centers=3, random_state=42)\n",
    "\n",
    "# Apply K-means clustering\n",
    "kmeans = KMeans(n_clusters=3, random_state=42)\n",
    "predicted_labels = kmeans.fit_predict(X)\n",
    "\n",
    "# Calculate Silhouette Coefficient\n",
    "silhouette_coefficient = metrics.silhouette_score(X, predicted_labels)\n",
    "\n",
    "print(f'Silhouette Coefficient: {silhouette_coefficient:.4f}')\n"
   ]
  },
  {
   "cell_type": "markdown",
   "id": "825ef078-356c-4bb0-b71a-856528d7d520",
   "metadata": {},
   "source": [
    "## Qestion 8 --------------------------------------------------------------------------------------------------------------"
   ]
  },
  {
   "cell_type": "code",
   "execution_count": null,
   "id": "4ea52859-4928-4c9f-ba1a-515f9e94eff8",
   "metadata": {},
   "outputs": [],
   "source": [
    "Limitations of the Davies-Bouldin Index (DBI):\n",
    "\n",
    "    Sensitivity to Scaling:\n",
    "        The DBI is sensitive to the scale of features, which means that results may be affected by the choice of units or scaling of the data.\n",
    "\n",
    "    Assumption of Convex Clusters:\n",
    "        Like many clustering metrics, the DBI assumes that clusters are convex. It may not perform well when dealing with non-convex clusters.\n",
    "\n",
    "    Sensitivity to Outliers:\n",
    "        Outliers can have a significant impact on the DBI, affecting the calculation of both intra-cluster and inter-cluster distances.\n",
    "\n",
    "    Dependency on Centroid-Based Clustering:\n",
    "        The DBI is designed with centroid-based clustering algorithms in mind, and its effectiveness may vary when applied to other types of clustering algorithms.\n",
    "\n",
    "    Not a Normalized Metric:\n",
    "        The DBI is not a normalized metric, making it challenging to compare results across different datasets or clustering algorithms.\n",
    "\n",
    "Overcoming Limitations:\n",
    "\n",
    "    Feature Scaling:\n",
    "        Address the sensitivity to scaling by standardizing or normalizing features before applying the DBI. This ensures that features are on a similar scale.\n",
    "\n",
    "    Consider Other Clustering Algorithms:\n",
    "        Recognize that the DBI is particularly designed for centroid-based clustering. If the data has a different structure or other types of clusters, consider using alternative metrics or clustering algorithms.\n",
    "\n",
    "    Handle Outliers:\n",
    "        Preprocess the data to handle outliers appropriately, either by removing them or using robust clustering algorithms that are less sensitive to outliers.\n",
    "\n",
    "    Combine Metrics:\n",
    "        Consider using multiple clustering evaluation metrics to obtain a more comprehensive understanding of the clustering performance. No single metric is perfect for all scenarios."
   ]
  },
  {
   "cell_type": "code",
   "execution_count": 38,
   "id": "87576233-9ae9-4aa1-b25f-1949a9740f17",
   "metadata": {},
   "outputs": [
    {
     "name": "stdout",
     "output_type": "stream",
     "text": [
      "Davies-Bouldin Index: 0.2123\n"
     ]
    }
   ],
   "source": [
    "from sklearn import metrics\n",
    "from sklearn.cluster import KMeans\n",
    "from sklearn.datasets import make_blobs\n",
    "\n",
    "# Generate synthetic data with ground truth labels\n",
    "X, true_labels = make_blobs(n_samples=300, centers=3, random_state=42)\n",
    "\n",
    "# Apply K-means clustering\n",
    "kmeans = KMeans(n_clusters=3, random_state=42)\n",
    "predicted_labels = kmeans.fit_predict(X)\n",
    "\n",
    "# Calculate Davies-Bouldin Index\n",
    "davies_bouldin_index = metrics.davies_bouldin_score(X, predicted_labels)\n",
    "\n",
    "print(f'Davies-Bouldin Index: {davies_bouldin_index:.4f}')\n"
   ]
  },
  {
   "cell_type": "markdown",
   "id": "fe53e6b4-8ba5-4258-b4a8-d01ae1f5f027",
   "metadata": {},
   "source": [
    "## Qestion 9 --------------------------------------------------------------------------------------------------------------"
   ]
  },
  {
   "cell_type": "code",
   "execution_count": null,
   "id": "b5cf2a5d-8552-4f91-988a-86250f0526a1",
   "metadata": {},
   "outputs": [],
   "source": [
    "Homogeneity, completeness, and the V-measure are three metrics commonly used for evaluating clustering results, and they are closely related. They all measure different aspects of the agreement between true class labels and cluster assignments.\n",
    "Definitions:\n",
    "\n",
    "    Homogeneity:\n",
    "        Measures the extent to which each cluster contains only members of a single class.\n",
    "\n",
    "    Completeness:\n",
    "        Measures the extent to which all members of a given class are assigned to the same cluster.\n",
    "\n",
    "    V-measure:\n",
    "        Combines homogeneity and completeness into a single score using their harmonic mean.\n",
    "\n",
    "Relationship:\n",
    "\n",
    "    The V-measure is defined as the harmonic mean of homogeneity and completeness:\n",
    "\n",
    "    V=2⋅homogeneity⋅completenesshomogeneity+completenessV=homogeneity+completeness2⋅homogeneity⋅completeness​\n",
    "\n",
    "    Both homogeneity and completeness range from 0 to 1, and their harmonic mean (V-measure) also ranges from 0 to 1.\n",
    "\n",
    "    If homogeneity and completeness are both 1, the V-measure is also 1, indicating perfect agreement between true class labels and cluster assignments.\n",
    "\n",
    "Example:\n",
    "\n",
    "Let's generate synthetic data with ground truth labels and apply K-means clustering to illustrate the relationship between homogeneity, completeness, and the V-measure:"
   ]
  },
  {
   "cell_type": "code",
   "execution_count": 39,
   "id": "0e4d56b8-8212-4015-b907-9d86215ec361",
   "metadata": {},
   "outputs": [
    {
     "name": "stdout",
     "output_type": "stream",
     "text": [
      "Homogeneity: 1.0000\n",
      "Completeness: 1.0000\n",
      "V-measure: 1.0000\n"
     ]
    }
   ],
   "source": [
    "from sklearn import metrics\n",
    "from sklearn.cluster import KMeans\n",
    "from sklearn.datasets import make_blobs\n",
    "\n",
    "# Generate synthetic data with ground truth labels\n",
    "X, true_labels = make_blobs(n_samples=300, centers=3, random_state=42)\n",
    "\n",
    "# Apply K-means clustering\n",
    "kmeans = KMeans(n_clusters=3, random_state=42)\n",
    "predicted_labels = kmeans.fit_predict(X)\n",
    "\n",
    "# Calculate homogeneity, completeness, and V-measure\n",
    "homogeneity = metrics.homogeneity_score(true_labels, predicted_labels)\n",
    "completeness = metrics.completeness_score(true_labels, predicted_labels)\n",
    "v_measure = metrics.v_measure_score(true_labels, predicted_labels)\n",
    "\n",
    "print(f'Homogeneity: {homogeneity:.4f}')\n",
    "print(f'Completeness: {completeness:.4f}')\n",
    "print(f'V-measure: {v_measure:.4f}')\n"
   ]
  },
  {
   "cell_type": "markdown",
   "id": "1698cf96-c2c5-45b2-b119-a8ae536d5a35",
   "metadata": {},
   "source": [
    "## Qestion 10  --------------------------------------------------------------------------------------------------------------"
   ]
  },
  {
   "cell_type": "code",
   "execution_count": null,
   "id": "59f077cf-53a7-4f67-97ef-2c990ee0e8e2",
   "metadata": {},
   "outputs": [],
   "source": [
    "Using Silhouette Coefficient to Compare Clustering Algorithms:\n",
    "\n",
    "The Silhouette Coefficient can be used to compare the quality of different clustering algorithms on the same dataset. Here's how you can approach the comparison:\n",
    "\n",
    "    Apply Multiple Clustering Algorithms:\n",
    "        Implement different clustering algorithms (e.g., K-means, DBSCAN, hierarchical clustering) on the same dataset.\n",
    "\n",
    "    Calculate Silhouette Coefficient:\n",
    "        For each clustering result, calculate the Silhouette Coefficient to assess the compactness and separation of clusters.\n",
    "\n",
    "    Compare Silhouette Scores:\n",
    "        Compare the Silhouette Coefficients obtained from different algorithms. Higher Silhouette Coefficients indicate better-defined clusters.\n",
    "\n",
    "    Consider Other Evaluation Metrics:\n",
    "        Use additional clustering evaluation metrics, such as Davies-Bouldin Index or Adjusted Rand Index, for a more comprehensive assessment.\n",
    "\n",
    "Potential Issues to Watch Out For:\n",
    "\n",
    "    Sensitivity to Data Scaling:\n",
    "        The Silhouette Coefficient is sensitive to the scale of features. Ensure that features are appropriately scaled or standardized before applying the metric.\n",
    "\n",
    "    Data Structure and Assumptions:\n",
    "        The Silhouette Coefficient assumes clusters to be convex and may not perform well with non-convex clusters. Consider the inherent structure of your data and choose clustering algorithms accordingly.\n",
    "\n",
    "    Interpretability:\n",
    "        Silhouette Coefficient provides a global measure and might not capture local variations or structures. Interpret results in conjunction with domain knowledge.\n",
    "\n",
    "    Impact of Outliers:\n",
    "        Outliers can significantly impact the Silhouette Coefficient. Be cautious when dealing with datasets containing outliers and consider preprocessing techniques.\n",
    "\n",
    "    Selecting Appropriate K:\n",
    "        For algorithms with a user-defined parameter (e.g., K-means), choose an appropriate value of K that maximizes the Silhouette Coefficient. Experiment with different K values."
   ]
  },
  {
   "cell_type": "code",
   "execution_count": 40,
   "id": "dc2957e5-1314-4485-b2f0-cb1739d01958",
   "metadata": {},
   "outputs": [
    {
     "name": "stdout",
     "output_type": "stream",
     "text": [
      "Silhouette Coefficient (K-means): 0.8480\n",
      "Silhouette Coefficient (DBSCAN): 0.7640\n"
     ]
    }
   ],
   "source": [
    "from sklearn import metrics\n",
    "from sklearn.cluster import KMeans, DBSCAN\n",
    "from sklearn.datasets import make_blobs\n",
    "\n",
    "# Generate synthetic data with ground truth labels\n",
    "X, true_labels = make_blobs(n_samples=300, centers=3, random_state=42)\n",
    "\n",
    "# Apply K-means clustering\n",
    "kmeans = KMeans(n_clusters=3, random_state=42)\n",
    "kmeans_labels = kmeans.fit_predict(X)\n",
    "\n",
    "# Apply DBSCAN clustering\n",
    "dbscan = DBSCAN(eps=0.8, min_samples=5)\n",
    "dbscan_labels = dbscan.fit_predict(X)\n",
    "\n",
    "# Calculate Silhouette Coefficients\n",
    "silhouette_kmeans = metrics.silhouette_score(X, kmeans_labels)\n",
    "silhouette_dbscan = metrics.silhouette_score(X, dbscan_labels)\n",
    "\n",
    "print(f'Silhouette Coefficient (K-means): {silhouette_kmeans:.4f}')\n",
    "print(f'Silhouette Coefficient (DBSCAN): {silhouette_dbscan:.4f}')\n"
   ]
  },
  {
   "cell_type": "markdown",
   "id": "f8669f3a-e666-4f58-95a3-9bd83ac01c4c",
   "metadata": {},
   "source": [
    "## Qestion 11 --------------------------------------------------------------------------------------------------------------"
   ]
  },
  {
   "cell_type": "code",
   "execution_count": null,
   "id": "dc415063-9c23-495d-9a2c-dc0df117df62",
   "metadata": {},
   "outputs": [],
   "source": [
    "Davies-Bouldin Index (DBI):\n",
    "\n",
    "The Davies-Bouldin Index is a metric used to evaluate the quality of a clustering result. It measures both the separation and compactness of clusters in a dataset. The index is defined as the average similarity between each cluster and its most similar cluster, where similarity is a ratio of the sum of within-cluster distances to the distance between cluster centroids.\n",
    "Calculation:\n",
    "\n",
    "The Davies-Bouldin Index for kk clusters is calculated as follows:\n",
    "\n",
    "DBI=1k∑i=1kmax⁡j≠i(intra-cluster distancei+intra-cluster distancejinter-cluster distancei,j)DBI=k1​∑i=1k​maxj=i​(inter-cluster distancei,j​intra-cluster distancei​+intra-cluster distancej​​)\n",
    "\n",
    "Where:\n",
    "\n",
    "    intra-cluster distanceiintra-cluster distancei​ is the average distance between each point in cluster ii and the centroid of cluster ii.\n",
    "    inter-cluster distancei,jinter-cluster distancei,j​ is the distance between the centroids of clusters ii and jj.\n",
    "\n",
    "Interpretation:\n",
    "\n",
    "    Lower values of the Davies-Bouldin Index indicate better clustering results.\n",
    "    The index measures both compactness (small intra-cluster distances) and separation (large inter-cluster distances).\n",
    "\n",
    "Assumptions and Considerations:\n",
    "\n",
    "    Convex Clusters:\n",
    "        The DBI assumes that clusters are convex. It may not perform well with non-convex clusters.\n",
    "\n",
    "    Euclidean Distance:\n",
    "        The index is based on Euclidean distances. For datasets with non-Euclidean structures, the results may not be optimal.\n",
    "\n",
    "    Equal Variances:\n",
    "        The DBI assumes that the variances of clusters are equal, which may not hold in all datasets."
   ]
  },
  {
   "cell_type": "code",
   "execution_count": 41,
   "id": "a88bb47a-5bb4-4290-9321-04581b9b3c81",
   "metadata": {},
   "outputs": [
    {
     "name": "stdout",
     "output_type": "stream",
     "text": [
      "Davies-Bouldin Index: 0.2123\n"
     ]
    }
   ],
   "source": [
    "from sklearn import metrics\n",
    "from sklearn.cluster import KMeans\n",
    "from sklearn.datasets import make_blobs\n",
    "\n",
    "# Generate synthetic data with ground truth labels\n",
    "X, true_labels = make_blobs(n_samples=300, centers=3, random_state=42)\n",
    "\n",
    "# Apply K-means clustering\n",
    "kmeans = KMeans(n_clusters=3, random_state=42)\n",
    "predicted_labels = kmeans.fit_predict(X)\n",
    "\n",
    "# Calculate Davies-Bouldin Index\n",
    "davies_bouldin_index = metrics.davies_bouldin_score(X, predicted_labels)\n",
    "\n",
    "print(f'Davies-Bouldin Index: {davies_bouldin_index:.4f}')\n"
   ]
  },
  {
   "cell_type": "markdown",
   "id": "67d5c804-7cba-4ad6-9434-404700ff3505",
   "metadata": {},
   "source": [
    "## Qestion 12 --------------------------------------------------------------------------------------------------------------"
   ]
  },
  {
   "cell_type": "code",
   "execution_count": null,
   "id": "16873f93-f25a-4bc0-b26a-84c1bd91adc5",
   "metadata": {},
   "outputs": [],
   "source": [
    "Yes, the Silhouette Coefficient can be used to evaluate hierarchical clustering algorithms. The Silhouette Coefficient is a general metric\n",
    "\n",
    "for assessing the quality of clustering results based on the compactness and separation of clusters. Here's how you can apply it to hierarchical \n",
    "clustering using Python and scikit-learn:"
   ]
  },
  {
   "cell_type": "code",
   "execution_count": 42,
   "id": "1aabd1e4-2acc-4d29-bb0f-113fde907c9f",
   "metadata": {},
   "outputs": [
    {
     "data": {
      "image/png": "[encoded data removed]",
      "text/plain": [
       "<Figure size 800x600 with 1 Axes>"
      ]
     },
     "metadata": {},
     "output_type": "display_data"
    },
    {
     "name": "stdout",
     "output_type": "stream",
     "text": [
      "Silhouette Coefficient: 0.4189\n"
     ]
    }
   ],
   "source": [
    "from sklearn import metrics\n",
    "from scipy.cluster.hierarchy import dendrogram, linkage\n",
    "import matplotlib.pyplot as plt\n",
    "import numpy as np\n",
    "\n",
    "# Generate synthetic data with ground truth labels\n",
    "np.random.seed(42)\n",
    "X = np.random.rand(20, 2)\n",
    "\n",
    "# Perform hierarchical clustering\n",
    "linkage_matrix = linkage(X, method='ward', metric='euclidean')\n",
    "\n",
    "# Plot the dendrogram\n",
    "plt.figure(figsize=(8, 6))\n",
    "dendrogram(linkage_matrix)\n",
    "plt.title('Hierarchical Clustering Dendrogram')\n",
    "plt.xlabel('Sample Index')\n",
    "plt.ylabel('Distance')\n",
    "plt.show()\n",
    "\n",
    "# Choose the number of clusters (cutting the dendrogram)\n",
    "num_clusters = 3\n",
    "clusters = fcluster(linkage_matrix, num_clusters, criterion='maxclust')\n",
    "\n",
    "# Calculate Silhouette Coefficient\n",
    "silhouette_coefficient = metrics.silhouette_score(X, clusters)\n",
    "\n",
    "print(f'Silhouette Coefficient: {silhouette_coefficient:.4f}')\n"
   ]
  },
  {
   "cell_type": "code",
   "execution_count": null,
   "id": "dc1f7665-7b16-4bb3-ae66-730973ed867e",
   "metadata": {},
   "outputs": [],
   "source": [
    "\n",
    "    Synthetic data is generated for illustration purposes.\n",
    "    Hierarchical clustering is performed using the linkage function from scipy.cluster.hierarchy.\n",
    "    A dendrogram is plotted to visualize the hierarchical clustering.\n",
    "    The number of clusters is determined by cutting the dendrogram at a certain height.\n",
    "    The Silhouette Coefficient is then calculated using the resulting cluster assignments."
   ]
  }
 ],
 "metadata": {
  "kernelspec": {
   "display_name": "Python 3 (ipykernel)",
   "language": "python",
   "name": "python3"
  },
  "language_info": {
   "codemirror_mode": {
    "name": "ipython",
    "version": 3
   },
   "file_extension": ".py",
   "mimetype": "text/x-python",
   "name": "python",
   "nbconvert_exporter": "python",
   "pygments_lexer": "ipython3",
   "version": "3.10.8"
  }
 },
 "nbformat": 4,
 "nbformat_minor": 5
}
