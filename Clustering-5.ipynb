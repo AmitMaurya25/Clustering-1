{
 "cells": [
  {
   "cell_type": "markdown",
   "id": "178a5f14-fcaa-47ab-a800-0f820c126af1",
   "metadata": {},
   "source": [
    "# ## Question 1------------------------------------------------------------------------------------------------------------------\n"
   ]
  },
  {
   "cell_type": "code",
   "execution_count": null,
   "id": "c4d7701e-cf98-4cae-8f0b-9950c745d2a4",
   "metadata": {
    "tags": []
   },
   "outputs": [],
   "source": [
    "A contingency matrix, also known as a confusion matrix, is a table used in classification to assess the performance of a model by \n",
    "comparing predicted and true class labels. It provides a detailed breakdown of the model's predictions, showing the number of true \n",
    "positives (TP), true negatives (TN), false positives (FP), and false negatives (FN). From this matrix, various performance metrics \n",
    "can be calculated.\n",
    "\n",
    "Here's a breakdown of the terms in a 2x2 contingency matrix:\n",
    "\n",
    "    True Positives (TP): Instances where the model correctly predicted the positive class.\n",
    "    True Negatives (TN): Instances where the model correctly predicted the negative class.\n",
    "    False Positives (FP): Instances where the model incorrectly predicted the positive class.\n",
    "    False Negatives (FN): Instances where the model incorrectly predicted the negative class.\n",
    "\n",
    "The contingency matrix can be used to calculate several metrics, including accuracy, precision, recall, F1-score, and more.\n",
    "Example with Code:\n",
    "\n",
    "Let's assume we have a binary classification scenario (positive and negative classes) and evaluate a model's performance using a contingency\n",
    "matrix:"
   ]
  },
  {
   "cell_type": "code",
   "execution_count": 1,
   "id": "031e3bf2-ad71-4b45-9879-057bedaff81d",
   "metadata": {},
   "outputs": [
    {
     "name": "stdout",
     "output_type": "stream",
     "text": [
      "Confusion Matrix:\n",
      "[[3 2]\n",
      " [1 4]]\n"
     ]
    }
   ],
   "source": [
    "from sklearn.metrics import confusion_matrix\n",
    "\n",
    "# Example true labels and predicted labels\n",
    "true_labels = [1, 0, 1, 1, 0, 1, 0, 0, 1, 0]\n",
    "predicted_labels = [1, 0, 1, 1, 0, 0, 1, 0, 1, 1]\n",
    "\n",
    "# Calculate the confusion matrix\n",
    "conf_matrix = confusion_matrix(true_labels, predicted_labels)\n",
    "\n",
    "# Display the confusion matrix\n",
    "print(\"Confusion Matrix:\")\n",
    "print(conf_matrix)\n"
   ]
  },
  {
   "cell_type": "markdown",
   "id": "f16f4011-2dd6-42a4-a05e-4a1bac19425e",
   "metadata": {},
   "source": [
    "## Qestion 2 --------------------------------------------------------------------------------------------------------------"
   ]
  },
  {
   "cell_type": "code",
   "execution_count": null,
   "id": "0db6999d-bea5-49fb-bd82-931a82c42292",
   "metadata": {},
   "outputs": [],
   "source": [
    "A pair confusion matrix is an extension of the traditional confusion matrix used in binary classification. It is specifically designed for \n",
    "situations where the focus is on pairs of classes, allowing a more detailed analysis of the performance of a model, especially in scenarios \n",
    "with imbalanced classes or where the pairs of interest are crucial.\n",
    "\n",
    "In a standard confusion matrix, you have four components: True Positives (TP), True Negatives (TN), False Positives (FP), and False Negatives\n",
    "(FN). A pair confusion matrix, on the other hand, considers pairs of classes and provides additional information about misclassifications \n",
    "within those pairs.\n",
    "Pair Confusion Matrix Components:\n",
    "\n",
    "    True Positives (TP): Instances where both the true and predicted labels belong to the positive class of interest.\n",
    "    True Negatives (TN): Instances where both the true and predicted labels belong to the negative class of interest.\n",
    "    False Positives (FP): Instances where the true label is in the negative class, but the predicted label is in the positive class of \n",
    "    interest.\n",
    "    False Negatives (FN): Instances where the true label is in the positive class, but the predicted label is in the negative class of\n",
    "    interest.\n",
    "    Pair True Positives (PTP): Instances where both the true and predicted labels belong to the negative class of interest.\n",
    "    Pair True Negatives (PTN): Instances where both the true and predicted labels belong to the negative class not of interest.\n",
    "    Pair False Positives (PFP): Instances where the true label is in the negative class not of interest, but the predicted label is in the positive class of interest.\n",
    "    Pair False Negatives (PFN): Instances where the true label is in the positive class of interest, but the predicted label is in the negative class not of interest.\n",
    "\n",
    "Usefulness:\n",
    "\n",
    "A pair confusion matrix is particularly useful in scenarios where:\n",
    "\n",
    "    Classes are imbalanced, and you want to focus on specific pairs of interest.\n",
    "    The cost of misclassifying specific pairs is different, and you want to analyze the impact of these misclassifications separately.\n",
    "\n",
    "Example with Code:"
   ]
  },
  {
   "cell_type": "code",
   "execution_count": 2,
   "id": "ebaea2ec-c79c-4fcb-9697-fd53254f4068",
   "metadata": {},
   "outputs": [
    {
     "name": "stdout",
     "output_type": "stream",
     "text": [
      "Pair Confusion Matrix:\n",
      "[[3 2]\n",
      " [1 4]]\n"
     ]
    }
   ],
   "source": [
    "import numpy as np\n",
    "from sklearn.metrics import confusion_matrix\n",
    "\n",
    "# Example true labels and predicted labels for a binary classification scenario\n",
    "true_labels = np.array([1, 0, 1, 1, 0, 1, 0, 0, 1, 0])\n",
    "predicted_labels = np.array([1, 0, 1, 1, 0, 0, 1, 0, 1, 1])\n",
    "\n",
    "# Specify the pair of interest (e.g., class 1 vs. class 0)\n",
    "pair_class_positive = 1\n",
    "pair_class_negative = 0\n",
    "\n",
    "# Create a pair confusion matrix\n",
    "pair_conf_matrix = confusion_matrix(true_labels, predicted_labels, labels=[pair_class_negative, pair_class_positive])\n",
    "\n",
    "# Display the pair confusion matrix\n",
    "print(\"Pair Confusion Matrix:\")\n",
    "print(pair_conf_matrix)\n"
   ]
  },
  {
   "cell_type": "markdown",
   "id": "915b2b7b-0c80-4bff-af42-0ccf34fa753d",
   "metadata": {},
   "source": [
    "## Qestion 3 --------------------------------------------------------------------------------------------------------------"
   ]
  },
  {
   "cell_type": "code",
   "execution_count": null,
   "id": "be3b99c4-dc68-46a5-bfa3-b030c78b7430",
   "metadata": {},
   "outputs": [],
   "source": [
    "In the context of natural language processing (NLP), extrinsic measures refer to evaluation metrics that assess the performance of a language\n",
    "model within the context of a downstream task or application. These measures are task-specific and involve using the language model as a\n",
    "component in a larger system to achieve a specific goal. Extrinsic evaluation is contrasted with intrinsic evaluation, which assesses the\n",
    "model's performance based on its performance on specific language-related tasks (e.g., language modeling) without considering its utility\n",
    "in real-world applications.\n",
    "\n",
    "Extrinsic evaluation is crucial in NLP because it provides insights into how well a language model can be integrated into practical\n",
    "applications and systems. The goal is to evaluate the model's effectiveness in solving real-world problems rather than focusing solely on\n",
    "its performance on individual linguistic benchmarks.\n",
    "Example Task and Extrinsic Evaluation:\n",
    "\n",
    "Let's consider sentiment analysis as an example of a downstream task. In sentiment analysis, the goal is to determine the sentiment expressed \n",
    "\n",
    "in a piece of text (e.g., positive, negative, neutral). The extrinsic evaluation would involve integrating a language model into a sentiment\n",
    "analysis system and assessing its performance on real-world data."
   ]
  },
  {
   "cell_type": "code",
   "execution_count": null,
   "id": "dca079e1-f5b1-4cab-aeac-a74fd150fcb1",
   "metadata": {},
   "outputs": [],
   "source": [
    "# Example code for sentiment analysis using a pre-trained model (e.g., BERT)\n",
    "from transformers import pipeline\n",
    "\n",
    "# Load pre-trained sentiment analysis model (e.g., BERT)\n",
    "sentiment_analysis = pipeline(\"sentiment-analysis\")\n",
    "\n",
    "# Example sentences\n",
    "sentences = [\"I love this product!\", \"This is terrible.\", \"Neutral statement.\"]\n",
    "\n",
    "# Perform sentiment analysis using the pre-trained model\n",
    "results = sentiment_analysis(sentences)\n",
    "\n",
    "# Display results\n",
    "for sentence, result in zip(sentences, results):\n",
    "    print(f\"Text: {sentence}\\nSentiment: {result['label']} ({result['score']:.2f})\\n\")\n"
   ]
  },
  {
   "cell_type": "code",
   "execution_count": null,
   "id": "f2bbdd3d-553b-41cb-b7e8-6d23c78b478d",
   "metadata": {},
   "outputs": [],
   "source": [
    "In this example, the code uses the Hugging Face Transformers library to load a pre-trained sentiment analysis model (e.g., BERT) and \n",
    "then applies the model to analyze the sentiment of three example sentences. The result includes the predicted sentiment label and the \n",
    "confidence score. This is a simple illustration of how a language model can be used in an extrinsic evaluation scenario for sentiment analysis.\n",
    "\n",
    "Extrinsic evaluation metrics may include task-specific metrics such as accuracy, precision, recall, F1-score, or domain-specific metrics \n",
    "depending on the nature of the downstream task."
   ]
  },
  {
   "cell_type": "markdown",
   "id": "6c26df2e-9a3a-4623-a65a-ab1cc285816f",
   "metadata": {},
   "source": [
    "## Qestion 4 --------------------------------------------------------------------------------------------------------------"
   ]
  },
  {
   "cell_type": "code",
   "execution_count": null,
   "id": "10a6a2d8-6c7f-465f-8267-855152d00d7c",
   "metadata": {},
   "outputs": [],
   "source": [
    "In the context of machine learning, intrinsic measures and extrinsic measures refer to different types of evaluation criteria used to assess the performance of models.\n",
    "Intrinsic Measures:\n",
    "\n",
    "    Definition: Intrinsic measures evaluate the performance of a model based on its capabilities or behavior within a specific task or scenario. These measures are task-specific and often focus on the model's performance on a particular benchmark or set of benchmarks designed for a specific aspect of its functionality.\n",
    "\n",
    "    Example: In natural language processing (NLP), intrinsic measures could include metrics like perplexity for language models, BLEU score for machine translation, or accuracy for sentiment analysis.\n",
    "\n",
    "    Use Case: Intrinsic measures are useful for understanding how well a model performs on a specific subtask or within a controlled environment. They provide insights into the model's strengths and weaknesses in isolation.\n",
    "\n",
    "Extrinsic Measures:\n",
    "\n",
    "    Definition: Extrinsic measures, on the other hand, evaluate a model's performance within the broader context of a real-world application or downstream task. These measures assess how well a model contributes to solving a practical problem or achieving a specific goal.\n",
    "\n",
    "    Example: In NLP, extrinsic measures could involve using a language model as part of a chatbot system, where the overall goal is effective conversation and problem-solving. The evaluation might then consider user satisfaction or task completion rates.\n",
    "\n",
    "    Use Case: Extrinsic measures are crucial for assessing the actual utility and impact of a model in practical applications. They consider the model's performance within the complete system or workflow it is intended to support.\n",
    "\n",
    "Example:\n",
    "\n",
    "Let's consider an example in the context of sentiment analysis:\n",
    "\n",
    "    Intrinsic Measure (Sentiment Analysis):\n",
    "        Metric: Accuracy on a sentiment analysis dataset.\n",
    "        Use Case: Evaluating the model's ability to correctly classify sentiments on a predefined benchmark.\n",
    "\n",
    "    Extrinsic Measure (Customer Support System):\n",
    "        Metric: Customer satisfaction score based on the language model's contributions to a customer support chatbot system.\n",
    "        Use Case: Assessing how well the language model improves the overall satisfaction of users interacting with the chatbot.\n",
    "\n",
    "Code Example:\n",
    "\n",
    "Intrinsic Measure (Accuracy for Sentiment Analysis):"
   ]
  },
  {
   "cell_type": "code",
   "execution_count": 4,
   "id": "5b126abe-75b5-437b-845b-1ce1d5b9b443",
   "metadata": {},
   "outputs": [
    {
     "name": "stdout",
     "output_type": "stream",
     "text": [
      "Accuracy: 0.00\n"
     ]
    }
   ],
   "source": [
    "from sklearn.metrics import accuracy_score\n",
    "from sklearn.model_selection import train_test_split\n",
    "from sklearn.linear_model import LogisticRegression\n",
    "from sklearn.feature_extraction.text import CountVectorizer\n",
    "\n",
    "# Example sentiment analysis dataset\n",
    "data = [(\"Positive\", \"I love this product!\"), (\"Negative\", \"This is terrible.\"), (\"Neutral\", \"Neutral statement.\")]\n",
    "labels, texts = zip(*data)\n",
    "\n",
    "# Convert text data to feature vectors\n",
    "vectorizer = CountVectorizer()\n",
    "X = vectorizer.fit_transform(texts)\n",
    "\n",
    "# Split data into training and testing sets\n",
    "X_train, X_test, y_train, y_test = train_test_split(X, labels, test_size=0.2, random_state=42)\n",
    "\n",
    "# Train a simple logistic regression model\n",
    "model = LogisticRegression()\n",
    "model.fit(X_train, y_train)\n",
    "\n",
    "# Make predictions on the test set\n",
    "y_pred = model.predict(X_test)\n",
    "\n",
    "# Calculate accuracy as an intrinsic measure\n",
    "accuracy = accuracy_score(y_test, y_pred)\n",
    "print(f\"Accuracy: {accuracy:.2f}\")\n"
   ]
  },
  {
   "cell_type": "code",
   "execution_count": null,
   "id": "f44e32d7-449b-47e1-ba32-19c472ffe339",
   "metadata": {},
   "outputs": [],
   "source": [
    "Extrinsic Measure (Customer Satisfaction Score in a Chatbot System):"
   ]
  },
  {
   "cell_type": "code",
   "execution_count": 5,
   "id": "1527da51-4aff-4782-be83-21011f91a7ac",
   "metadata": {},
   "outputs": [
    {
     "name": "stdout",
     "output_type": "stream",
     "text": [
      "User Input 1: I really like your service.\n",
      "Chatbot Response 1: Your feedback is noted. Is there anything specific you'd like to discuss?\n",
      "\n",
      "User Input 2: This product is not what I expected.\n",
      "Chatbot Response 2: We apologize for any inconvenience. Please provide more details for assistance.\n"
     ]
    }
   ],
   "source": [
    "# Example code for a simple chatbot system using the trained sentiment analysis model\n",
    "\n",
    "def chatbot_response(user_input):\n",
    "    # Assume sentiment analysis model is already loaded and available\n",
    "    user_sentiment = model.predict(vectorizer.transform([user_input]))[0]\n",
    "\n",
    "    # Perform actions based on sentiment\n",
    "    if user_sentiment == \"Positive\":\n",
    "        return \"Thank you! We're glad you're satisfied.\"\n",
    "    elif user_sentiment == \"Negative\":\n",
    "        return \"We apologize for any inconvenience. Please provide more details for assistance.\"\n",
    "    else:\n",
    "        return \"Your feedback is noted. Is there anything specific you'd like to discuss?\"\n",
    "\n",
    "# Example user interactions\n",
    "user_input_1 = \"I really like your service.\"\n",
    "user_input_2 = \"This product is not what I expected.\"\n",
    "\n",
    "# Get chatbot responses and assess customer satisfaction (extrinsic measure)\n",
    "response_1 = chatbot_response(user_input_1)\n",
    "response_2 = chatbot_response(user_input_2)\n",
    "\n",
    "# Display chatbot responses\n",
    "print(\"User Input 1:\", user_input_1)\n",
    "print(\"Chatbot Response 1:\", response_1)\n",
    "\n",
    "print(\"\\nUser Input 2:\", user_input_2)\n",
    "print(\"Chatbot Response 2:\", response_2)\n"
   ]
  },
  {
   "cell_type": "code",
   "execution_count": null,
   "id": "8855414a-fc38-4752-a881-fecee3c42499",
   "metadata": {},
   "outputs": [],
   "source": []
  },
  {
   "cell_type": "markdown",
   "id": "1fbae123-e8b6-4a9e-8691-16b297790f55",
   "metadata": {},
   "source": [
    "## Qestion 5 --------------------------------------------------------------------------------------------------------------"
   ]
  },
  {
   "cell_type": "code",
   "execution_count": 33,
   "id": "23803f32-dcb5-4597-bdc9-8b38f28d0325",
   "metadata": {},
   "outputs": [
    {
     "ename": "SyntaxError",
     "evalue": "unterminated string literal (detected at line 41) (3637594134.py, line 41)",
     "output_type": "error",
     "traceback": [
      "\u001b[0;36m  Cell \u001b[0;32mIn[33], line 41\u001b[0;36m\u001b[0m\n\u001b[0;31m    Let's illustrate the differences using a simple example with synthetic data:\u001b[0m\n\u001b[0m       ^\u001b[0m\n\u001b[0;31mSyntaxError\u001b[0m\u001b[0;31m:\u001b[0m unterminated string literal (detected at line 41)\n"
     ]
    }
   ],
   "source": [
    "A confusion matrix is a table used in machine learning to evaluate the performance of a classification model. \n",
    "It provides a detailed breakdown of the model's predictions, showing the number of instances that were correctly or incorrectly classified. \n",
    "The confusion matrix is particularly useful for identifying the strengths and weaknesses of a model by revealing the types of errors it makes.\n",
    "Components of a Confusion Matrix:\n",
    "\n",
    "A confusion matrix for a binary classification task has four components:\n",
    "\n",
    "    True Positives (TP): Instances that are correctly predicted as positive.\n",
    "    True Negatives (TN): Instances that are correctly predicted as negative.\n",
    "    False Positives (FP): Instances that are incorrectly predicted as positive (Type I error).\n",
    "    False Negatives (FN): Instances that are incorrectly predicted as negative (Type II error).\n",
    "\n",
    "Purpose and Usage:\n",
    "\n",
    "    Performance Evaluation:\n",
    "        The confusion matrix provides a clear overview of a model's performance, allowing for the calculation of various metrics such as\n",
    "        accuracy, precision, recall, F1-score, and more.\n",
    "\n",
    "    Identifying Strengths:\n",
    "        True Positives and True Negatives represent instances correctly classified by the model. High values in these cells indicate the\n",
    "        model's strengths in accurately predicting positive and negative cases.\n",
    "\n",
    "    Identifying Weaknesses:\n",
    "        False Positives and False Negatives represent instances where the model made errors. Analyzing these errors helps identify the\n",
    "        model's weaknesses and areas for improvement.\n",
    "\n",
    "Example with Code:\n",
    "\n",
    "Let's consider an example using a simple binary classification scenario:"
   ]
  },
  {
   "cell_type": "code",
   "execution_count": 7,
   "id": "bd66d044-7bd5-4715-9bd5-0488760218bd",
   "metadata": {},
   "outputs": [
    {
     "name": "stdout",
     "output_type": "stream",
     "text": [
      "Confusion Matrix:\n",
      "[[89  8]\n",
      " [16 87]]\n",
      "\n",
      "Additional Metrics:\n",
      "Accuracy: 0.88\n",
      "Precision: 0.92\n",
      "Recall: 0.84\n",
      "F1 Score: 0.88\n"
     ]
    },
    {
     "ename": "ValueError",
     "evalue": "Found input variables with inconsistent numbers of samples: [300, 1000]",
     "output_type": "error",
     "traceback": [
      "\u001b[0;31m---------------------------------------------------------------------------\u001b[0m",
      "\u001b[0;31mValueError\u001b[0m                                Traceback (most recent call last)",
      "Cell \u001b[0;32mIn[7], line 55\u001b[0m\n\u001b[1;32m     52\u001b[0m predicted_labels \u001b[38;5;241m=\u001b[39m kmeans\u001b[38;5;241m.\u001b[39mfit_predict(X)\n\u001b[1;32m     54\u001b[0m \u001b[38;5;66;03m# Calculate homogeneity and completeness\u001b[39;00m\n\u001b[0;32m---> 55\u001b[0m homogeneity \u001b[38;5;241m=\u001b[39m \u001b[43mmetrics\u001b[49m\u001b[38;5;241;43m.\u001b[39;49m\u001b[43mhomogeneity_score\u001b[49m\u001b[43m(\u001b[49m\u001b[43mtrue_labels\u001b[49m\u001b[43m,\u001b[49m\u001b[43m \u001b[49m\u001b[43mpredicted_labels\u001b[49m\u001b[43m)\u001b[49m\n\u001b[1;32m     56\u001b[0m completeness \u001b[38;5;241m=\u001b[39m metrics\u001b[38;5;241m.\u001b[39mcompleteness_score(true_labels, predicted_labels)\n\u001b[1;32m     58\u001b[0m \u001b[38;5;28mprint\u001b[39m(\u001b[38;5;124mf\u001b[39m\u001b[38;5;124m'\u001b[39m\u001b[38;5;124mHomogeneity: \u001b[39m\u001b[38;5;132;01m{\u001b[39;00mhomogeneity\u001b[38;5;132;01m:\u001b[39;00m\u001b[38;5;124m.4f\u001b[39m\u001b[38;5;132;01m}\u001b[39;00m\u001b[38;5;124m'\u001b[39m)\n",
      "File \u001b[0;32m/opt/conda/lib/python3.10/site-packages/sklearn/metrics/cluster/_supervised.py:564\u001b[0m, in \u001b[0;36mhomogeneity_score\u001b[0;34m(labels_true, labels_pred)\u001b[0m\n\u001b[1;32m    498\u001b[0m \u001b[38;5;28;01mdef\u001b[39;00m \u001b[38;5;21mhomogeneity_score\u001b[39m(labels_true, labels_pred):\n\u001b[1;32m    499\u001b[0m     \u001b[38;5;124;03m\"\"\"Homogeneity metric of a cluster labeling given a ground truth.\u001b[39;00m\n\u001b[1;32m    500\u001b[0m \n\u001b[1;32m    501\u001b[0m \u001b[38;5;124;03m    A clustering result satisfies homogeneity if all of its clusters\u001b[39;00m\n\u001b[0;32m   (...)\u001b[0m\n\u001b[1;32m    562\u001b[0m \u001b[38;5;124;03m      0.0...\u001b[39;00m\n\u001b[1;32m    563\u001b[0m \u001b[38;5;124;03m    \"\"\"\u001b[39;00m\n\u001b[0;32m--> 564\u001b[0m     \u001b[38;5;28;01mreturn\u001b[39;00m \u001b[43mhomogeneity_completeness_v_measure\u001b[49m\u001b[43m(\u001b[49m\u001b[43mlabels_true\u001b[49m\u001b[43m,\u001b[49m\u001b[43m \u001b[49m\u001b[43mlabels_pred\u001b[49m\u001b[43m)\u001b[49m[\u001b[38;5;241m0\u001b[39m]\n",
      "File \u001b[0;32m/opt/conda/lib/python3.10/site-packages/sklearn/metrics/cluster/_supervised.py:471\u001b[0m, in \u001b[0;36mhomogeneity_completeness_v_measure\u001b[0;34m(labels_true, labels_pred, beta)\u001b[0m\n\u001b[1;32m    412\u001b[0m \u001b[38;5;28;01mdef\u001b[39;00m \u001b[38;5;21mhomogeneity_completeness_v_measure\u001b[39m(labels_true, labels_pred, \u001b[38;5;241m*\u001b[39m, beta\u001b[38;5;241m=\u001b[39m\u001b[38;5;241m1.0\u001b[39m):\n\u001b[1;32m    413\u001b[0m     \u001b[38;5;124;03m\"\"\"Compute the homogeneity and completeness and V-Measure scores at once.\u001b[39;00m\n\u001b[1;32m    414\u001b[0m \n\u001b[1;32m    415\u001b[0m \u001b[38;5;124;03m    Those metrics are based on normalized conditional entropy measures of\u001b[39;00m\n\u001b[0;32m   (...)\u001b[0m\n\u001b[1;32m    469\u001b[0m \u001b[38;5;124;03m    v_measure_score : V-Measure (NMI with arithmetic mean option).\u001b[39;00m\n\u001b[1;32m    470\u001b[0m \u001b[38;5;124;03m    \"\"\"\u001b[39;00m\n\u001b[0;32m--> 471\u001b[0m     labels_true, labels_pred \u001b[38;5;241m=\u001b[39m \u001b[43mcheck_clusterings\u001b[49m\u001b[43m(\u001b[49m\u001b[43mlabels_true\u001b[49m\u001b[43m,\u001b[49m\u001b[43m \u001b[49m\u001b[43mlabels_pred\u001b[49m\u001b[43m)\u001b[49m\n\u001b[1;32m    473\u001b[0m     \u001b[38;5;28;01mif\u001b[39;00m \u001b[38;5;28mlen\u001b[39m(labels_true) \u001b[38;5;241m==\u001b[39m \u001b[38;5;241m0\u001b[39m:\n\u001b[1;32m    474\u001b[0m         \u001b[38;5;28;01mreturn\u001b[39;00m \u001b[38;5;241m1.0\u001b[39m, \u001b[38;5;241m1.0\u001b[39m, \u001b[38;5;241m1.0\u001b[39m\n",
      "File \u001b[0;32m/opt/conda/lib/python3.10/site-packages/sklearn/metrics/cluster/_supervised.py:71\u001b[0m, in \u001b[0;36mcheck_clusterings\u001b[0;34m(labels_true, labels_pred)\u001b[0m\n\u001b[1;32m     69\u001b[0m \u001b[38;5;28;01mif\u001b[39;00m labels_pred\u001b[38;5;241m.\u001b[39mndim \u001b[38;5;241m!=\u001b[39m \u001b[38;5;241m1\u001b[39m:\n\u001b[1;32m     70\u001b[0m     \u001b[38;5;28;01mraise\u001b[39;00m \u001b[38;5;167;01mValueError\u001b[39;00m(\u001b[38;5;124m\"\u001b[39m\u001b[38;5;124mlabels_pred must be 1D: shape is \u001b[39m\u001b[38;5;132;01m%r\u001b[39;00m\u001b[38;5;124m\"\u001b[39m \u001b[38;5;241m%\u001b[39m (labels_pred\u001b[38;5;241m.\u001b[39mshape,))\n\u001b[0;32m---> 71\u001b[0m \u001b[43mcheck_consistent_length\u001b[49m\u001b[43m(\u001b[49m\u001b[43mlabels_true\u001b[49m\u001b[43m,\u001b[49m\u001b[43m \u001b[49m\u001b[43mlabels_pred\u001b[49m\u001b[43m)\u001b[49m\n\u001b[1;32m     73\u001b[0m \u001b[38;5;28;01mreturn\u001b[39;00m labels_true, labels_pred\n",
      "File \u001b[0;32m/opt/conda/lib/python3.10/site-packages/sklearn/utils/validation.py:397\u001b[0m, in \u001b[0;36mcheck_consistent_length\u001b[0;34m(*arrays)\u001b[0m\n\u001b[1;32m    395\u001b[0m uniques \u001b[38;5;241m=\u001b[39m np\u001b[38;5;241m.\u001b[39munique(lengths)\n\u001b[1;32m    396\u001b[0m \u001b[38;5;28;01mif\u001b[39;00m \u001b[38;5;28mlen\u001b[39m(uniques) \u001b[38;5;241m>\u001b[39m \u001b[38;5;241m1\u001b[39m:\n\u001b[0;32m--> 397\u001b[0m     \u001b[38;5;28;01mraise\u001b[39;00m \u001b[38;5;167;01mValueError\u001b[39;00m(\n\u001b[1;32m    398\u001b[0m         \u001b[38;5;124m\"\u001b[39m\u001b[38;5;124mFound input variables with inconsistent numbers of samples: \u001b[39m\u001b[38;5;132;01m%r\u001b[39;00m\u001b[38;5;124m\"\u001b[39m\n\u001b[1;32m    399\u001b[0m         \u001b[38;5;241m%\u001b[39m [\u001b[38;5;28mint\u001b[39m(l) \u001b[38;5;28;01mfor\u001b[39;00m l \u001b[38;5;129;01min\u001b[39;00m lengths]\n\u001b[1;32m    400\u001b[0m     )\n",
      "\u001b[0;31mValueError\u001b[0m: Found input variables with inconsistent numbers of samples: [300, 1000]"
     ]
    }
   ],
   "source": [
    "from sklearn import metrics\n",
    "import warnings\n",
    "warnings.filterwarnings('ignore')\n",
    "from sklearn.cluster import KMeans\n",
    "from sklearn.datasets import make_blobs\n",
    "\n",
    "# Generate synthetic data with two ground truth classes\n",
    "X, true_labels = make_blobs(n_samples=300, centers=2, random_state=42)\n",
    "from sklearn.metrics import confusion_matrix, accuracy_score, precision_score, recall_score, f1_score\n",
    "from sklearn.model_selection import train_test_split\n",
    "from sklearn.linear_model import LogisticRegression\n",
    "from sklearn.datasets import make_classification\n",
    "\n",
    "# Generate synthetic dataset for binary classification\n",
    "X, y = make_classification(n_samples=1000, n_features=5, n_classes=2, random_state=42)\n",
    "\n",
    "# Split the dataset into training and testing sets\n",
    "X_train, X_test, y_train, y_test = train_test_split(X, y, test_size=0.2, random_state=42)\n",
    "\n",
    "# Train a logistic regression model\n",
    "model = LogisticRegression()\n",
    "model.fit(X_train, y_train)\n",
    "\n",
    "# Make predictions on the test set\n",
    "y_pred = model.predict(X_test)\n",
    "\n",
    "# Calculate the confusion matrix\n",
    "conf_matrix = confusion_matrix(y_test, y_pred)\n",
    "\n",
    "# Display the confusion matrix\n",
    "print(\"Confusion Matrix:\")\n",
    "print(conf_matrix)\n",
    "\n",
    "# Calculate additional metrics\n",
    "accuracy = accuracy_score(y_test, y_pred)\n",
    "precision = precision_score(y_test, y_pred)\n",
    "recall = recall_score(y_test, y_pred)\n",
    "f1 = f1_score(y_test, y_pred)\n",
    "\n",
    "# Display additional metrics\n",
    "print(\"\\nAdditional Metrics:\")\n",
    "print(f\"Accuracy: {accuracy:.2f}\")\n",
    "print(f\"Precision: {precision:.2f}\")\n",
    "print(f\"Recall: {recall:.2f}\")\n",
    "print(f\"F1 Score: {f1:.2f}\")\n",
    "\n",
    "# Introduce an artificial merging of clusters\n",
    "X[50:100, 0] += 10  # Shift some samples from class 0 to the right\n",
    "\n",
    "# Apply K-means clustering\n",
    "kmeans = KMeans(n_clusters=2, random_state=42)\n",
    "predicted_labels = kmeans.fit_predict(X)\n",
    "\n",
    "# Calculate homogeneity and completeness\n",
    "homogeneity = metrics.homogeneity_score(true_labels, predicted_labels)\n",
    "completeness = metrics.completeness_score(true_labels, predicted_labels)\n",
    "\n",
    "print(f'Homogeneity: {homogeneity:.4f}')\n",
    "print(f'Completeness: {completeness:.4f}')\n"
   ]
  },
  {
   "cell_type": "code",
   "execution_count": null,
   "id": "e79f1084-734f-4c2e-b59d-cfe7be5d23ed",
   "metadata": {},
   "outputs": [],
   "source": []
  },
  {
   "cell_type": "markdown",
   "id": "68ddcde6-8491-4209-b16b-37c212415cb5",
   "metadata": {},
   "source": [
    "## Qestion 6 --------------------------------------------------------------------------------------------------------------"
   ]
  },
  {
   "cell_type": "code",
   "execution_count": null,
   "id": "b4ddcb44-770f-4b20-a2b0-c589babfffd5",
   "metadata": {},
   "outputs": [],
   "source": [
    "In unsupervised learning, where the model is not provided with labeled training data, intrinsic measures are used to evaluate the \n",
    "performance of clustering algorithms. These measures help assess the quality of the clusters formed by the algorithm based on the internal\n",
    "characteristics of the data. Some common intrinsic measures include:\n",
    "\n",
    "    Silhouette Score:\n",
    "        The silhouette score measures how similar an object is to its own cluster compared to other clusters. It ranges from -1 to 1,\n",
    "        where a high value indicates that the object is well-matched to its own cluster and poorly matched to neighboring clusters.\n",
    "\n",
    "    Davies-Bouldin Index:\n",
    "        The Davies-Bouldin Index quantifies the compactness and separation between clusters. A lower index value indicates better clustering,\n",
    "        with well-defined and separated clusters.\n",
    "\n",
    "    Calinski-Harabasz Index (Variance Ratio Criterion):\n",
    "        The Calinski-Harabasz index is based on the ratio of the between-cluster variance to the within-cluster variance. \n",
    "        A higher index value suggests better-defined clusters.\n",
    "\n",
    "Example with Code (using K-means clustering):"
   ]
  },
  {
   "cell_type": "code",
   "execution_count": 8,
   "id": "72697333-fc59-4434-b5ac-4f58d52e01b7",
   "metadata": {},
   "outputs": [
    {
     "data": {
      "image/png": "[encoded data removed]",
      "text/plain": [
       "<Figure size 1200x400 with 3 Axes>"
      ]
     },
     "metadata": {},
     "output_type": "display_data"
    }
   ],
   "source": [
    "from sklearn.cluster import KMeans\n",
    "from sklearn.datasets import make_blobs\n",
    "from sklearn.metrics import silhouette_score, davies_bouldin_score, calinski_harabasz_score\n",
    "import matplotlib.pyplot as plt\n",
    "\n",
    "# Generate synthetic data with ground truth labels\n",
    "X, true_labels = make_blobs(n_samples=300, centers=3, random_state=42)\n",
    "\n",
    "# Vary the number of clusters for K-means\n",
    "k_values = [2, 3, 4, 5, 6]\n",
    "silhouette_scores = []\n",
    "davies_bouldin_scores = []\n",
    "calinski_harabasz_scores = []\n",
    "\n",
    "for k in k_values:\n",
    "    # Fit K-means clustering model\n",
    "    kmeans = KMeans(n_clusters=k, random_state=42)\n",
    "    predicted_labels = kmeans.fit_predict(X)\n",
    "\n",
    "    # Evaluate intrinsic measures\n",
    "    silhouette_scores.append(silhouette_score(X, predicted_labels))\n",
    "    davies_bouldin_scores.append(davies_bouldin_score(X, predicted_labels))\n",
    "    calinski_harabasz_scores.append(calinski_harabasz_score(X, predicted_labels))\n",
    "\n",
    "# Plot results\n",
    "plt.figure(figsize=(12, 4))\n",
    "\n",
    "# Silhouette Score\n",
    "plt.subplot(131)\n",
    "plt.plot(k_values, silhouette_scores, marker='o')\n",
    "plt.title('Silhouette Score')\n",
    "plt.xlabel('Number of Clusters (k)')\n",
    "plt.ylabel('Score')\n",
    "\n",
    "# Davies-Bouldin Index\n",
    "plt.subplot(132)\n",
    "plt.plot(k_values, davies_bouldin_scores, marker='o')\n",
    "plt.title('Davies-Bouldin Index')\n",
    "plt.xlabel('Number of Clusters (k)')\n",
    "plt.ylabel('Score')\n",
    "\n",
    "# Calinski-Harabasz Index\n",
    "plt.subplot(133)\n",
    "plt.plot(k_values, calinski_harabasz_scores, marker='o')\n",
    "plt.title('Calinski-Harabasz Index')\n",
    "plt.xlabel('Number of Clusters (k)')\n",
    "plt.ylabel('Score')\n",
    "\n",
    "plt.tight_layout()\n",
    "plt.show()\n"
   ]
  },
  {
   "cell_type": "code",
   "execution_count": null,
   "id": "7c8f0d32-cdac-4d25-b80a-7a22b1441ee3",
   "metadata": {},
   "outputs": [],
   "source": []
  },
  {
   "cell_type": "markdown",
   "id": "bb3b6c98-0564-42b4-a965-6a54a7ab3046",
   "metadata": {},
   "source": [
    "## Qestion 7 --------------------------------------------------------------------------------------------------------------"
   ]
  },
  {
   "cell_type": "code",
   "execution_count": null,
   "id": "e7ef70f7-e92f-43eb-80d9-b697431a7a01",
   "metadata": {},
   "outputs": [],
   "source": [
    "While accuracy is a commonly used metric for classification tasks, it has certain limitations that may make it inadequate for comprehensive\n",
    "model evaluation in some scenarios. Here are some limitations of using accuracy as a sole evaluation metric and potential ways to address \n",
    "these limitations:\n",
    "Limitations of Accuracy:\n",
    "\n",
    "    Imbalanced Classes:\n",
    "        Accuracy may be misleading when dealing with imbalanced classes, where one class has significantly more instances than the others.\n",
    "        A model predicting the majority class most of the time can still achieve high accuracy, even if it fails to correctly classify the\n",
    "        minority class.\n",
    "\n",
    "    Misleading Assessment:\n",
    "        Accuracy does not provide insights into the types of errors a model makes. It treats all misclassifications equally, which may not\n",
    "        be suitable for tasks where certain errors are more critical than others.\n",
    "\n",
    "Addressing Limitations:\n",
    "\n",
    "    Precision, Recall, and F1-Score:\n",
    "        Use precision, recall, and F1-score in addition to accuracy, especially when dealing with imbalanced classes. These metrics provide\n",
    "        a more detailed understanding of a model's performance, especially in terms of false positives and false negatives.\n",
    "\n",
    "    Confusion Matrix:\n",
    "        Analyze the confusion matrix to understand the distribution of true positives, true negatives, false positives, and false negatives.\n",
    "        This helps identify specific areas for improvement and assess the model's behavior across different classes.\n",
    "\n",
    "    Receiver Operating Characteristic (ROC) Curve and Area Under the Curve (AUC):\n",
    "        For binary classification tasks, consider using the ROC curve and AUC score. These metrics provide insights into the trade-off between\n",
    "        true positive rate (sensitivity) and false positive rate, helping to choose an appropriate threshold for classification.\n",
    "\n",
    "Example with Code:"
   ]
  },
  {
   "cell_type": "code",
   "execution_count": 10,
   "id": "262d0691-281a-451b-bfe7-8b6a117c67fc",
   "metadata": {},
   "outputs": [
    {
     "name": "stdout",
     "output_type": "stream",
     "text": [
      "Accuracy: 0.88\n",
      "Precision: 0.92\n",
      "Recall: 0.84\n",
      "F1 Score: 0.88\n",
      "ROC AUC: 0.95\n"
     ]
    },
    {
     "data": {
      "image/png": "[encoded data removed]",
      "text/plain": [
       "<Figure size 800x600 with 1 Axes>"
      ]
     },
     "metadata": {},
     "output_type": "display_data"
    }
   ],
   "source": [
    "from sklearn.metrics import accuracy_score, precision_score, recall_score, f1_score, roc_auc_score, roc_curve\n",
    "from sklearn.model_selection import train_test_split\n",
    "from sklearn.linear_model import LogisticRegression\n",
    "import matplotlib.pyplot as plt\n",
    "\n",
    "# Generate synthetic dataset for binary classification\n",
    "X, y = make_classification(n_samples=1000, n_features=5, n_classes=2, random_state=42)\n",
    "\n",
    "# Split the dataset into training and testing sets\n",
    "X_train, X_test, y_train, y_test = train_test_split(X, y, test_size=0.2, random_state=42)\n",
    "\n",
    "# Train a logistic regression model\n",
    "model = LogisticRegression()\n",
    "model.fit(X_train, y_train)\n",
    "\n",
    "# Make predictions on the test set\n",
    "y_pred = model.predict(X_test)\n",
    "\n",
    "# Calculate various metrics\n",
    "accuracy = accuracy_score(y_test, y_pred)\n",
    "precision = precision_score(y_test, y_pred)\n",
    "recall = recall_score(y_test, y_pred)\n",
    "f1 = f1_score(y_test, y_pred)\n",
    "roc_auc = roc_auc_score(y_test, model.predict_proba(X_test)[:, 1])\n",
    "\n",
    "# Display metrics\n",
    "print(f\"Accuracy: {accuracy:.2f}\")\n",
    "print(f\"Precision: {precision:.2f}\")\n",
    "print(f\"Recall: {recall:.2f}\")\n",
    "print(f\"F1 Score: {f1:.2f}\")\n",
    "print(f\"ROC AUC: {roc_auc:.2f}\")\n",
    "\n",
    "# Plot ROC curve\n",
    "fpr, tpr, _ = roc_curve(y_test, model.predict_proba(X_test)[:, 1])\n",
    "plt.figure(figsize=(8, 6))\n",
    "plt.plot(fpr, tpr, color='darkorange', lw=2, label='ROC curve (area = {:.2f})'.format(roc_auc))\n",
    "plt.plot([0, 1], [0, 1], color='navy', lw=2, linestyle='--')\n",
    "plt.xlabel('False Positive Rate')\n",
    "plt.ylabel('True Positive Rate')\n",
    "plt.title('Receiver Operating Characteristic (ROC) Curve')\n",
    "plt.legend(loc=\"lower right\")\n",
    "plt.show()\n"
   ]
  }
 ],
 "metadata": {
  "kernelspec": {
   "display_name": "Python 3 (ipykernel)",
   "language": "python",
   "name": "python3"
  },
  "language_info": {
   "codemirror_mode": {
    "name": "ipython",
    "version": 3
   },
   "file_extension": ".py",
   "mimetype": "text/x-python",
   "name": "python",
   "nbconvert_exporter": "python",
   "pygments_lexer": "ipython3",
   "version": "3.10.8"
  }
 },
 "nbformat": 4,
 "nbformat_minor": 5
}
